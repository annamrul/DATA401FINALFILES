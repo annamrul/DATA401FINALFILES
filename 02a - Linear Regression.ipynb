{
 "cells": [
  {
   "cell_type": "code",
   "execution_count": 1,
   "metadata": {
    "collapsed": true
   },
   "outputs": [],
   "source": [
    "import pandas as pd\n",
    "import numpy as np\n",
    "import matplotlib.pyplot as plt\n",
    "from sklearn import linear_model\n",
    "% matplotlib inline"
   ]
  },
  {
   "cell_type": "code",
   "execution_count": 2,
   "metadata": {
    "collapsed": true
   },
   "outputs": [],
   "source": [
    "depcols = ['review/appearance', 'review/aroma', 'review/overall',\n",
    "           'review/palate', 'review/taste']"
   ]
  },
  {
   "cell_type": "code",
   "execution_count": 3,
   "metadata": {
    "collapsed": true
   },
   "outputs": [],
   "source": [
    "df = pd.read_csv(\"finalset.csv\")"
   ]
  },
  {
   "cell_type": "code",
   "execution_count": 8,
   "metadata": {
    "collapsed": true
   },
   "outputs": [],
   "source": [
    "targets = df[depcols]\n",
    "independents = df.drop(depcols, axis = 1)"
   ]
  },
  {
   "cell_type": "markdown",
   "metadata": {},
   "source": [
    "#### Appearance"
   ]
  },
  {
   "cell_type": "code",
   "execution_count": 11,
   "metadata": {
    "collapsed": true
   },
   "outputs": [],
   "source": [
    "np.random.seed(0)\n",
    "\n",
    "validx = np.random.choice(df.index, size = int(df.shape[0] * .1), replace = False)\n",
    "trainidx = [x for x in df.index if x not in validx]"
   ]
  },
  {
   "cell_type": "code",
   "execution_count": 12,
   "metadata": {},
   "outputs": [
    {
     "name": "stdout",
     "output_type": "stream",
     "text": [
      "Train R^2: 0.109769272324\n",
      "Val MSE: 0.335374399476\n"
     ]
    }
   ],
   "source": [
    "dep = \"review/appearance\"\n",
    "\n",
    "X_train = independents.iloc[trainidx].values\n",
    "X_val = independents.iloc[validx].values\n",
    "\n",
    "y_train = targets.iloc[trainidx].loc[:, dep].values\n",
    "y_val = targets.iloc[validx].loc[:, dep].values\n",
    "\n",
    "regr = linear_model.LinearRegression().fit(X_train, y_train)\n",
    "print(\"Train R^2: \" + str(regr.score(X_train, y_train)))\n",
    "print(\"Val MSE: \" + str(sum((regr.predict(X_val) - y_val) ** 2) / X_val.shape[0]))\n",
    "\n",
    "# las_reg = linear_model.LassoCV(cv = 10).fit(X,y)\n",
    "# print(\"Lasso R^2: \" + str(las_reg.score(X, y)))\n",
    "# print(\"Lasso SSE: \" + str(sum((las_reg.predict(X) - y) ** 2)))"
   ]
  },
  {
   "cell_type": "markdown",
   "metadata": {},
   "source": [
    "#### Aroma"
   ]
  },
  {
   "cell_type": "code",
   "execution_count": 13,
   "metadata": {},
   "outputs": [
    {
     "name": "stdout",
     "output_type": "stream",
     "text": [
      "Train R^2: 0.129316857256\n",
      "Val MSE: 0.445706295115\n"
     ]
    }
   ],
   "source": [
    "dep = \"review/aroma\"\n",
    "\n",
    "X_train = independents.iloc[trainidx].values\n",
    "X_val = independents.iloc[validx].values\n",
    "\n",
    "y_train = targets.iloc[trainidx].loc[:, dep].values\n",
    "y_val = targets.iloc[validx].loc[:, dep].values\n",
    "\n",
    "regr = linear_model.LinearRegression().fit(X_train, y_train)\n",
    "print(\"Train R^2: \" + str(regr.score(X_train, y_train)))\n",
    "print(\"Val MSE: \" + str(sum((regr.predict(X_val) - y_val) ** 2) / X_val.shape[0]))\n",
    "\n",
    "# las_reg = linear_model.LassoCV(cv = 10).fit(X,y)\n",
    "# print(\"Lasso R^2: \" + str(las_reg.score(X, y)))\n",
    "# print(\"Lasso SSE: \" + str(sum((las_reg.predict(X) - y) ** 2)))"
   ]
  },
  {
   "cell_type": "markdown",
   "metadata": {},
   "source": [
    "#### Palate"
   ]
  },
  {
   "cell_type": "code",
   "execution_count": 144,
   "metadata": {},
   "outputs": [
    {
     "name": "stdout",
     "output_type": "stream",
     "text": [
      "Train R^2: 0.118284943022\n",
      "Val MSE: 0.42990157284\n"
     ]
    }
   ],
   "source": [
    "dep = \"review/palate\"\n",
    "\n",
    "X_train = independents.iloc[trainidx].values\n",
    "X_val = independents.iloc[validx].values\n",
    "\n",
    "y_train = targets.iloc[trainidx].loc[:, dep].values\n",
    "y_val = targets.iloc[validx].loc[:, dep].values\n",
    "\n",
    "regr = linear_model.LinearRegression().fit(X_train, y_train)\n",
    "print(\"Train R^2: \" + str(regr.score(X_train, y_train)))\n",
    "print(\"Val MSE: \" + str(sum((regr.predict(X_val) - y_val) ** 2) / X_val.shape[0]))\n",
    "\n",
    "# las_reg = linear_model.LassoCV(cv = 10).fit(X,y)\n",
    "# print(\"Lasso R^2: \" + str(las_reg.score(X, y)))\n",
    "# print(\"Lasso SSE: \" + str(sum((las_reg.predict(X) - y) ** 2)))"
   ]
  },
  {
   "cell_type": "markdown",
   "metadata": {},
   "source": [
    "#### Taste"
   ]
  },
  {
   "cell_type": "code",
   "execution_count": 145,
   "metadata": {},
   "outputs": [
    {
     "name": "stdout",
     "output_type": "stream",
     "text": [
      "Train R^2: 0.130859991467\n",
      "Val MSE: 0.480120483685\n"
     ]
    }
   ],
   "source": [
    "dep = \"review/taste\"\n",
    "\n",
    "X_train = independents.iloc[trainidx].values\n",
    "X_val = independents.iloc[validx].values\n",
    "\n",
    "y_train = targets.iloc[trainidx].loc[:, dep].values\n",
    "y_val = targets.iloc[validx].loc[:, dep].values\n",
    "\n",
    "regr = linear_model.LinearRegression().fit(X_train, y_train)\n",
    "print(\"Train R^2: \" + str(regr.score(X_train, y_train)))\n",
    "print(\"Val MSE: \" + str(sum((regr.predict(X_val) - y_val) ** 2) / X_val.shape[0]))\n",
    "\n",
    "# las_reg = linear_model.LassoCV(cv = 10).fit(X,y)\n",
    "# print(\"Lasso R^2: \" + str(las_reg.score(X, y)))\n",
    "# print(\"Lasso SSE: \" + str(sum((las_reg.predict(X) - y) ** 2)))"
   ]
  },
  {
   "cell_type": "markdown",
   "metadata": {},
   "source": [
    "#### Overall"
   ]
  },
  {
   "cell_type": "code",
   "execution_count": 146,
   "metadata": {},
   "outputs": [
    {
     "name": "stdout",
     "output_type": "stream",
     "text": [
      "Train R^2: 0.11037856513\n",
      "Val MSE: 0.472746881377\n"
     ]
    }
   ],
   "source": [
    "dep = \"review/overall\"\n",
    "\n",
    "X_train = independents.iloc[trainidx].values\n",
    "X_val = independents.iloc[validx].values\n",
    "\n",
    "y_train = targets.iloc[trainidx].loc[:, dep].values\n",
    "y_val = targets.iloc[validx].loc[:, dep].values\n",
    "\n",
    "regr = linear_model.LinearRegression().fit(X_train, y_train)\n",
    "print(\"Train R^2: \" + str(regr.score(X_train, y_train)))\n",
    "print(\"Val MSE: \" + str(sum((regr.predict(X_val) - y_val) ** 2) / X_val.shape[0]))\n",
    "\n",
    "# las_reg = linear_model.LassoCV(cv = 10).fit(X,y)\n",
    "# print(\"Lasso R^2: \" + str(las_reg.score(X, y)))\n",
    "# print(\"Lasso SSE: \" + str(sum((las_reg.predict(X) - y) ** 2)))"
   ]
  },
  {
   "cell_type": "code",
   "execution_count": null,
   "metadata": {
    "collapsed": true
   },
   "outputs": [],
   "source": []
  },
  {
   "cell_type": "code",
   "execution_count": null,
   "metadata": {
    "collapsed": true
   },
   "outputs": [],
   "source": []
  }
 ],
 "metadata": {
  "kernelspec": {
   "display_name": "Python 3",
   "language": "python",
   "name": "python3"
  },
  "language_info": {
   "codemirror_mode": {
    "name": "ipython",
    "version": 3
   },
   "file_extension": ".py",
   "mimetype": "text/x-python",
   "name": "python",
   "nbconvert_exporter": "python",
   "pygments_lexer": "ipython3",
   "version": "3.6.2"
  }
 },
 "nbformat": 4,
 "nbformat_minor": 2
}
